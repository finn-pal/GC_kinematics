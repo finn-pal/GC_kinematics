{
 "cells": [
  {
   "cell_type": "code",
   "execution_count": 1,
   "metadata": {},
   "outputs": [],
   "source": [
    "import h5py\n",
    "import numpy as np\n",
    "import pandas as pd"
   ]
  },
  {
   "cell_type": "code",
   "execution_count": 2,
   "metadata": {},
   "outputs": [],
   "source": [
    "it000_source = np.random.random(size=(100, 100))\n",
    "it001_source = np.random.random(size=(100, 100))\n",
    "it002_source = np.random.random(size=(100, 100))\n",
    "it003_source = np.random.random(size=(100, 100))"
   ]
  },
  {
   "cell_type": "code",
   "execution_count": 3,
   "metadata": {},
   "outputs": [],
   "source": [
    "it000_snap_026 = np.random.random(size=(10, 10))\n",
    "it001_snap_026 = np.random.random(size=(10, 10))\n",
    "it002_snap_026 = np.random.random(size=(10, 10))\n",
    "it003_snap_026 = np.random.random(size=(10, 10))"
   ]
  },
  {
   "cell_type": "code",
   "execution_count": 4,
   "metadata": {},
   "outputs": [],
   "source": [
    "it000_snap_600 = np.random.random(size=(10, 10))\n",
    "it001_snap_600 = np.random.random(size=(10, 10))\n",
    "it002_snap_600 = np.random.random(size=(10, 10))\n",
    "it003_snap_600 = np.random.random(size=(10, 10))"
   ]
  },
  {
   "cell_type": "code",
   "execution_count": 5,
   "metadata": {},
   "outputs": [],
   "source": [
    "units = {\"length\": 1, \"velocity\": 1, \"mass\": 1}\n",
    "\n",
    "component_1 = {\n",
    "    \"pos_limit\": 1000,\n",
    "    \"ptypes\": [\"dark\", \"dark2\"],\n",
    "    \"type\": \"Multipole\",\n",
    "    \"symmetry\": \"axisymmetric\",\n",
    "    \"lmax\": 2,\n",
    "    \"mmax\": 0,\n",
    "    \"gridSizeR\": 20,\n",
    "}\n",
    "\n",
    "component_2 = {\n",
    "    \"pos_limit\": 1000,\n",
    "    \"ptypes\": [\"star\", \"gas\"],\n",
    "    \"type\": \"CylSpline\",\n",
    "    \"symmetry\": \"axisymmetric\",\n",
    "    \"mmax\": 0,\n",
    "    \"gridSizeR\": 20,\n",
    "    \"gridSizeZ\": 20,\n",
    "}\n",
    "\n",
    "snap_600_potential = {\n",
    "    \"units\": units,\n",
    "    \"snapshot\": 600,\n",
    "    \"num_component\": 2,\n",
    "    \"component_1\": component_1,\n",
    "    \"component_2\": component_2,\n",
    "}\n",
    "\n",
    "# Instead make a json file"
   ]
  },
  {
   "cell_type": "code",
   "execution_count": 9,
   "metadata": {},
   "outputs": [],
   "source": [
    "dir_path = \"/Users/z5114326/Documents/GitHub/GC_kinematics/test_file_save/\"\n",
    "file_name = \"test_storage.hdf5\"\n",
    "with h5py.File(dir_path + file_name, \"w\") as hdf:\n",
    "    g000 = hdf.create_group(\"it000\")\n",
    "    g000.create_dataset(\"source_table\", data=it000_source)\n",
    "    g000_kinematics = g000.create_group(\"kinematics\")\n",
    "    g000_kinematics.create_dataset(\"snap_026\", data=it000_snap_026)\n",
    "    g000_kinematics.create_dataset(\"snap_600\", data=it000_snap_600)\n",
    "\n",
    "    g001 = hdf.create_group(\"it001\")\n",
    "    g001.create_dataset(\"source_table\", data=it001_source)\n",
    "    g001_kinematics = g001.create_group(\"kinematics\")\n",
    "    g001_kinematics.create_dataset(\"snap_026\", data=it001_snap_026)\n",
    "    g001_kinematics.create_dataset(\"snap_600\", data=it001_snap_600)\n",
    "\n",
    "    g002 = hdf.create_group(\"it002\")\n",
    "    g002.create_dataset(\"source_table\", data=it002_source)\n",
    "    g002_kinematics = g002.create_group(\"kinematics\")\n",
    "    g002_kinematics.create_dataset(\"snap_026\", data=it002_snap_026)\n",
    "    g002_kinematics.create_dataset(\"snap_600\", data=it002_snap_600)\n",
    "\n",
    "    g003 = hdf.create_group(\"it003\")\n",
    "    g003.create_dataset(\"source_table\", data=it003_source)\n",
    "    g003_kinematics = g003.create_group(\"kinematics\")\n",
    "    g003_kinematics.create_dataset(\"snap_026\", data=it003_snap_026)\n",
    "    g003_kinematics.create_dataset(\"snap_600\", data=it003_snap_600)\n",
    "\n",
    "    # pots = hdf.create_group(\"potentials\")\n",
    "    # pots.create_dataset(\"potential_600\", data=snap_600_potential)"
   ]
  },
  {
   "cell_type": "code",
   "execution_count": null,
   "metadata": {},
   "outputs": [],
   "source": []
  }
 ],
 "metadata": {
  "kernelspec": {
   "display_name": ".venv",
   "language": "python",
   "name": "python3"
  },
  "language_info": {
   "codemirror_mode": {
    "name": "ipython",
    "version": 3
   },
   "file_extension": ".py",
   "mimetype": "text/x-python",
   "name": "python",
   "nbconvert_exporter": "python",
   "pygments_lexer": "ipython3",
   "version": "3.12.4"
  }
 },
 "nbformat": 4,
 "nbformat_minor": 2
}
