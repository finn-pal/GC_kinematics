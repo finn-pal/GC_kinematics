{
 "cells": [
  {
   "cell_type": "code",
   "execution_count": 1,
   "metadata": {},
   "outputs": [],
   "source": [
    "import agama\n",
    "import h5py\n",
    "import numpy as np\n",
    "import pandas as pd"
   ]
  },
  {
   "cell_type": "code",
   "execution_count": 2,
   "metadata": {},
   "outputs": [],
   "source": [
    "dir_path = \"/Users/z5114326/Documents/GitHub/GC_kinematics/test_file_save/\"\n",
    "file_name = \"test_storage.hdf5\"\n",
    "\n",
    "# with h5py.File(dir_path + file_name, \"r\") as hdf:\n",
    "#     base_items = list(hdf.items())\n",
    "#     print(base_items)"
   ]
  },
  {
   "cell_type": "code",
   "execution_count": 3,
   "metadata": {},
   "outputs": [],
   "source": [
    "# f = h5py.File(file_name, \"r\")"
   ]
  },
  {
   "cell_type": "code",
   "execution_count": 4,
   "metadata": {},
   "outputs": [],
   "source": [
    "it100_source = np.random.random(size=(100, 100))\n",
    "it100_snap_026 = np.random.random(size=(10, 10))\n",
    "it100_snap_600 = np.random.random(size=(10, 10))\n",
    "\n",
    "it000_snap_050 = np.random.random(size=(10, 10))"
   ]
  },
  {
   "cell_type": "code",
   "execution_count": 5,
   "metadata": {},
   "outputs": [],
   "source": [
    "with h5py.File(dir_path + file_name, \"a\") as hdf:\n",
    "    g100 = hdf.create_group(\"it100\")\n",
    "    g100.create_dataset(\"source_table\", data=it100_source)\n",
    "    g100_kinematics = g100.create_group(\"kinematics\")\n",
    "    g100_kinematics.create_dataset(\"snap_026\", data=it100_snap_026)\n",
    "    g100_kinematics.create_dataset(\"snap_600\", data=it100_snap_600)\n",
    "\n",
    "    g000 = hdf.get(\"it000\")\n",
    "    g000[\"kinematics\"].create_dataset(\"snap_050\", data=it000_snap_050)"
   ]
  }
 ],
 "metadata": {
  "kernelspec": {
   "display_name": ".venv",
   "language": "python",
   "name": "python3"
  },
  "language_info": {
   "codemirror_mode": {
    "name": "ipython",
    "version": 3
   },
   "file_extension": ".py",
   "mimetype": "text/x-python",
   "name": "python",
   "nbconvert_exporter": "python",
   "pygments_lexer": "ipython3",
   "version": "3.12.4"
  }
 },
 "nbformat": 4,
 "nbformat_minor": 2
}
