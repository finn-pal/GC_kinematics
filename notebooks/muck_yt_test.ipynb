{
 "cells": [
  {
   "cell_type": "code",
   "execution_count": 4,
   "metadata": {},
   "outputs": [],
   "source": [
    "import json\n",
    "\n",
    "import agama\n",
    "import gizmo_analysis as gizmo  # rename these packages for brevity\n",
    "import h5py\n",
    "import numpy as np\n",
    "import pandas as pd\n",
    "import utilities as ut  # rename these packages for brevity\n",
    "\n",
    "%matplotlib inline\n",
    "import matplotlib.pyplot as plt"
   ]
  },
  {
   "cell_type": "code",
   "execution_count": 3,
   "metadata": {},
   "outputs": [
    {
     "name": "stdout",
     "output_type": "stream",
     "text": [
      "\n",
      "# in utilities.simulation.Snapshot():\n",
      "* reading:  Volumes/My Passport for Mac/m12i_res7100/snapshot_times.txt\n",
      "\n",
      "  using snapshot index = 600, redshift = 0.000\n",
      "\n",
      "\n",
      "# in gizmo_analysis.gizmo_io.Read():\n",
      "* reading header from:  Volumes/My Passport for Mac/m12i_res7100/output/snapdir_600/snapshot_600.0.hdf5\n",
      "  snapshot contains the following number of particles:\n",
      "    dark      (id = 1): 70514272 particles\n",
      "    dark2     (id = 2): 5513331 particles\n",
      "    gas       (id = 0): 57060074 particles\n",
      "    star      (id = 4): 13976485 particles\n",
      "    blackhole (id = 5): 0 particles\n",
      "\n",
      "* reading the following\n",
      "  species: ['dark', 'dark2', 'gas', 'star']\n",
      "\n",
      "* reading particles from:\n",
      "    snapshot_600.0.hdf5\n",
      "    snapshot_600.1.hdf5\n",
      "    snapshot_600.2.hdf5\n",
      "    snapshot_600.3.hdf5\n",
      "\n",
      "* reading cosmological parameters from:  Volumes/My Passport for Mac/m12i_res7100/initial_condition/ic_agora_m12i.conf\n",
      "\n",
      "* checking sanity of particle properties\n",
      "\n",
      "\n",
      "# in gizmo_analysis.gizmo_track.ParticleCoordinate():\n",
      "  read 1 host (position, velocity, principal axes) from:  Volumes/My Passport for Mac/m12i_res7100/track/host_coordinates.hdf5\n",
      "  host1 position = (41792.15, 44131.23, 46267.68) [kpc comoving]\n",
      "  host1 velocity = (-52.2, 73.6, 94.7) [km/s]\n",
      "  host1 axis ratios = (0.16, 0.16, 0.99)\n",
      "\n"
     ]
    }
   ],
   "source": [
    "halo_file = \"/Users/z5114326/Documents/GitHub/GC_kinematics/data/base_halo/halo_25236877.hdf5\"\n",
    "tree_file = \"/Users/z5114326/Documents/GitHub/GC_kinematics/data/base_tree/merger_tree_25236877.hdf5\"\n",
    "simulation_directory = \"/Volumes/My Passport for Mac/m12i_res7100\"\n",
    "\n",
    "part = gizmo.io.Read.read_snapshots(\"all\", \"index\", 600, simulation_directory, assign_hosts_rotation=True)\n",
    "f_halo = h5py.File(halo_file)\n",
    "f_tree = h5py.File(tree_file)"
   ]
  },
  {
   "cell_type": "code",
   "execution_count": 5,
   "metadata": {},
   "outputs": [],
   "source": [
    "it = 0\n",
    "data_dir = \"/Users/z5114326/Documents/GitHub/GC_kinematics/data/result/m12i\"\n",
    "int_dir = data_dir + \"/interim/\"\n",
    "\n",
    "int_df = pd.read_hdf(int_dir + \"int_it_%d.hdf5\" % it, \"df\")"
   ]
  },
  {
   "cell_type": "code",
   "execution_count": 13,
   "metadata": {},
   "outputs": [
    {
     "data": {
      "text/plain": [
       "<KeysViewHDF5 ['Coordinates', 'Masses', 'ParticleIDs', 'Potential', 'Velocities']>"
      ]
     },
     "execution_count": 13,
     "metadata": {},
     "output_type": "execute_result"
    }
   ],
   "source": [
    "f_halo[\"snap_596_halo_25236877\"][\"dm\"].keys()"
   ]
  },
  {
   "cell_type": "code",
   "execution_count": 18,
   "metadata": {},
   "outputs": [
    {
     "data": {
      "text/plain": [
       "<KeysViewHDF5 ['DescendantID', 'FirstProgenitorID', 'J', 'MainLeafProgenitorID', 'NextProgenitorID', 'ScaleRad', 'SnapNum', 'SubfindID', 'SubhaloID', 'SubhaloMass', 'SubhaloPos', 'SubhaloVel']>"
      ]
     },
     "execution_count": 18,
     "metadata": {},
     "output_type": "execute_result"
    }
   ],
   "source": [
    "f_tree.keys()"
   ]
  },
  {
   "cell_type": "code",
   "execution_count": 39,
   "metadata": {},
   "outputs": [
    {
     "data": {
      "text/plain": [
       "1"
      ]
     },
     "execution_count": 39,
     "metadata": {},
     "output_type": "execute_result"
    }
   ],
   "source": [
    "test = 25199703\n",
    "np.where(np.array(f_tree[\"SubfindID\"]) == test)[0][0]"
   ]
  },
  {
   "cell_type": "code",
   "execution_count": 46,
   "metadata": {},
   "outputs": [],
   "source": [
    "main_halo = 25236877\n",
    "\n",
    "main_halo_idx = np.where(np.array(f_tree[\"SubfindID\"]) == main_halo)[0][0]\n",
    "main_halo_lst = [main_halo_idx]\n",
    "\n",
    "for i in range(1, 590):\n",
    "    halo_id = f_tree[\"FirstProgenitorID\"][main_halo_lst[-1]]\n",
    "    idx = np.where(np.array(f_tree[\"SubfindID\"]) == halo_id)[0][0]\n",
    "    main_halo_lst.append(idx)\n",
    "\n",
    "\n",
    "tid_main_lst = f_tree[\"SubfindID\"][main_halo_lst]"
   ]
  },
  {
   "cell_type": "code",
   "execution_count": 56,
   "metadata": {},
   "outputs": [
    {
     "data": {
      "text/plain": [
       "[1, 0]"
      ]
     },
     "execution_count": 56,
     "metadata": {},
     "output_type": "execute_result"
    }
   ],
   "source": [
    "halo_tid = 25199703\n",
    "offset = 4\n",
    "\n",
    "halo_idx = np.where(np.array(f_tree[\"SubfindID\"]) == halo_tid)[0][0]\n",
    "halo_snap = f_tree[\"SnapNum\"][halo_idx]\n",
    "desc_lst = [halo_idx]\n",
    "\n",
    "for _ in range(halo_snap, 600 - offset):\n",
    "    halo_des = f_tree[\"DescendantID\"][desc_lst[-1]]\n",
    "    idx = np.where(np.array(f_tree[\"SubfindID\"]) == halo_des)[0][0]\n",
    "    desc_lst.append(idx)\n",
    "\n",
    "desc_lst"
   ]
  },
  {
   "cell_type": "code",
   "execution_count": 49,
   "metadata": {},
   "outputs": [
    {
     "ename": "NameError",
     "evalue": "name 'SnapNum' is not defined",
     "output_type": "error",
     "traceback": [
      "\u001b[0;31m---------------------------------------------------------------------------\u001b[0m",
      "\u001b[0;31mNameError\u001b[0m                                 Traceback (most recent call last)",
      "Cell \u001b[0;32mIn[49], line 1\u001b[0m\n\u001b[0;32m----> 1\u001b[0m \u001b[43mSnapNum\u001b[49m\n",
      "\u001b[0;31mNameError\u001b[0m: name 'SnapNum' is not defined"
     ]
    }
   ],
   "source": []
  }
 ],
 "metadata": {
  "kernelspec": {
   "display_name": ".venv",
   "language": "python",
   "name": "python3"
  },
  "language_info": {
   "codemirror_mode": {
    "name": "ipython",
    "version": 3
   },
   "file_extension": ".py",
   "mimetype": "text/x-python",
   "name": "python",
   "nbconvert_exporter": "python",
   "pygments_lexer": "ipython3",
   "version": "3.12.4"
  }
 },
 "nbformat": 4,
 "nbformat_minor": 2
}
