{
 "cells": [
  {
   "cell_type": "code",
   "execution_count": 2,
   "metadata": {},
   "outputs": [],
   "source": [
    "import os\n",
    "from enum import Enum\n",
    "\n",
    "import gizmo_analysis as gizmo\n",
    "import h5py\n",
    "import halo_analysis as halo\n",
    "import numpy as np\n",
    "import pandas as pd\n",
    "from astropy.io import ascii"
   ]
  },
  {
   "cell_type": "code",
   "execution_count": 3,
   "metadata": {},
   "outputs": [
    {
     "name": "stdout",
     "output_type": "stream",
     "text": [
      "\n",
      "# in utilities.simulation.Snapshot():\n",
      "* reading:  Volumes/My Passport for Mac/m12i_res7100/snapshot_times.txt\n",
      "\n",
      "\n",
      "# in halo_analysis.halo_io.IO():\n",
      "* read 17859038 halos from:  Volumes/My Passport for Mac/m12i_res7100/halo/rockstar_dm/catalog_hdf5/tree.hdf5\n",
      "\n"
     ]
    }
   ],
   "source": [
    "fire_dir = \"/Volumes/My Passport for Mac/m12i_res7100\"\n",
    "halt = halo.io.IO.read_tree(simulation_directory=fire_dir)"
   ]
  },
  {
   "cell_type": "code",
   "execution_count": 4,
   "metadata": {},
   "outputs": [
    {
     "name": "stdout",
     "output_type": "stream",
     "text": [
      "\n",
      "# in utilities.simulation.Snapshot():\n",
      "* reading:  Volumes/My Passport for Mac/m12i_res7100/snapshot_times.txt\n",
      "\n",
      "  using snapshot index = 36, redshift = 7.597\n",
      "\n",
      "* read 1767 halos from:  Volumes/My Passport for Mac/m12i_res7100/halo/rockstar_dm/catalog_hdf5/halo_036.hdf5\n",
      "* assigning primary host and coordinates wrt it to halo catalog...  finished\n",
      "\n"
     ]
    }
   ],
   "source": [
    "halo_id = 98380\n",
    "halo_snap = 36\n",
    "\n",
    "hal = halo.io.IO.read_catalogs(\"index\", halo_snap, simulation_directory=fire_dir, species=None)"
   ]
  },
  {
   "cell_type": "code",
   "execution_count": 5,
   "metadata": {},
   "outputs": [
    {
     "data": {
      "text/plain": [
       "(36, 888)"
      ]
     },
     "execution_count": 5,
     "metadata": {},
     "output_type": "execute_result"
    }
   ],
   "source": [
    "idx = np.where(halt[\"tid\"] == halo_id)[0][0]\n",
    "halt[\"snapshot\"][idx], halt[\"catalog.index\"][idx]"
   ]
  },
  {
   "cell_type": "code",
   "execution_count": 6,
   "metadata": {},
   "outputs": [
    {
     "data": {
      "text/plain": [
       "1321"
      ]
     },
     "execution_count": 6,
     "metadata": {},
     "output_type": "execute_result"
    }
   ],
   "source": [
    "hal[\"id\"][888]"
   ]
  },
  {
   "cell_type": "code",
   "execution_count": 7,
   "metadata": {},
   "outputs": [
    {
     "data": {
      "text/plain": [
       "(411695140.0, 411695140.0)"
      ]
     },
     "execution_count": 7,
     "metadata": {},
     "output_type": "execute_result"
    }
   ],
   "source": [
    "hal[\"mass\"][888], halt[\"mass\"][idx]"
   ]
  },
  {
   "cell_type": "code",
   "execution_count": 13,
   "metadata": {},
   "outputs": [
    {
     "data": {
      "text/plain": [
       "1"
      ]
     },
     "execution_count": 13,
     "metadata": {},
     "output_type": "execute_result"
    }
   ],
   "source": [
    "halo_id = 315863\n",
    "idx = np.where(halt[\"tid\"] == halo_id)[0][0]\n",
    "halt[\"am.progenitor.main\"][idx]"
   ]
  },
  {
   "cell_type": "code",
   "execution_count": 19,
   "metadata": {},
   "outputs": [
    {
     "data": {
      "text/plain": [
       "1"
      ]
     },
     "execution_count": 19,
     "metadata": {},
     "output_type": "execute_result"
    }
   ],
   "source": [
    "halt[\"progenitor.main.index\"][0]"
   ]
  },
  {
   "cell_type": "code",
   "execution_count": 21,
   "metadata": {},
   "outputs": [
    {
     "data": {
      "text/plain": [
       "88"
      ]
     },
     "execution_count": 21,
     "metadata": {},
     "output_type": "execute_result"
    }
   ],
   "source": [
    "halt[\"progenitor.main.index\"][37]"
   ]
  },
  {
   "cell_type": "code",
   "execution_count": 102,
   "metadata": {},
   "outputs": [],
   "source": [
    "main_halo_lst = [0]\n",
    "\n",
    "for i in range(1, 590):\n",
    "    idx = halt[\"progenitor.main.index\"][main_halo_lst[-1]]\n",
    "    main_halo_lst.append(idx)\n",
    "\n",
    "tid_main_lst = halt[\"tid\"][main_halo_lst]"
   ]
  },
  {
   "cell_type": "code",
   "execution_count": 110,
   "metadata": {},
   "outputs": [],
   "source": [
    "halo_id = 98380\n",
    "\n",
    "halo_idx = np.where(halt[\"tid\"] == halo_id)[0][0]\n",
    "halo_snap = halt[\"snapshot\"][halo_idx]\n",
    "desc_lst = [halo_idx]\n",
    "\n",
    "for i in range(halo_snap, 600):\n",
    "    idx = halt[\"descendant.index\"][desc_lst[-1]]\n",
    "    desc_lst.append(idx)"
   ]
  },
  {
   "cell_type": "code",
   "execution_count": 105,
   "metadata": {},
   "outputs": [
    {
     "data": {
      "text/plain": [
       "25236877"
      ]
     },
     "execution_count": 105,
     "metadata": {},
     "output_type": "execute_result"
    }
   ],
   "source": [
    "test_lst = np.array([1 if halt[\"tid\"][idx] in tid_main_lst else 0 for idx in desc_lst])\n",
    "idx_infall = np.where(test_lst == 1)[0][0] - 1\n",
    "test = halt[\"tid\"][desc_lst[idx_infall]]\n",
    "test"
   ]
  },
  {
   "cell_type": "code",
   "execution_count": 158,
   "metadata": {},
   "outputs": [
    {
     "data": {
      "text/plain": [
       "(2076, 583, 0)"
      ]
     },
     "execution_count": 158,
     "metadata": {},
     "output_type": "execute_result"
    }
   ],
   "source": [
    "np.where(halt[\"tid\"] == 24557771)[0][0], halt[\"snapshot\"][2076], halt[\"am.phantom\"][2076]"
   ]
  },
  {
   "cell_type": "code",
   "execution_count": 149,
   "metadata": {},
   "outputs": [
    {
     "data": {
      "text/plain": [
       "(1833, 583)"
      ]
     },
     "execution_count": 149,
     "metadata": {},
     "output_type": "execute_result"
    }
   ],
   "source": [
    "halt[\"descendant.index\"][2076]"
   ]
  },
  {
   "cell_type": "code",
   "execution_count": 148,
   "metadata": {},
   "outputs": [
    {
     "data": {
      "text/plain": [
       "24600161"
      ]
     },
     "execution_count": 148,
     "metadata": {},
     "output_type": "execute_result"
    }
   ],
   "source": [
    "halt[\"tid\"][1833]"
   ]
  },
  {
   "cell_type": "code",
   "execution_count": 151,
   "metadata": {},
   "outputs": [
    {
     "data": {
      "text/plain": [
       "(1833, 584)"
      ]
     },
     "execution_count": 151,
     "metadata": {},
     "output_type": "execute_result"
    }
   ],
   "source": [
    "np.where(halt[\"tid\"] == 24600161)[0][0], halt[\"snapshot\"][1833]"
   ]
  },
  {
   "cell_type": "code",
   "execution_count": 166,
   "metadata": {},
   "outputs": [
    {
     "data": {
      "text/plain": [
       "array([2075, 2076, 2077, 2078, 2079, 2080, 2081, 2082, 2083, 2084],\n",
       "      dtype=int32)"
      ]
     },
     "execution_count": 166,
     "metadata": {},
     "output_type": "execute_result"
    }
   ],
   "source": [
    "halt.prop(\"progenitor.indices\", 1833)"
   ]
  }
 ],
 "metadata": {
  "kernelspec": {
   "display_name": ".venv",
   "language": "python",
   "name": "python3"
  },
  "language_info": {
   "codemirror_mode": {
    "name": "ipython",
    "version": 3
   },
   "file_extension": ".py",
   "mimetype": "text/x-python",
   "name": "python",
   "nbconvert_exporter": "python",
   "pygments_lexer": "ipython3",
   "version": "3.12.4"
  }
 },
 "nbformat": 4,
 "nbformat_minor": 2
}
