{
 "cells": [
  {
   "cell_type": "code",
   "execution_count": 1,
   "metadata": {},
   "outputs": [],
   "source": [
    "import galpy\n",
    "import pynbody\n",
    "from galpy.potential import InterpSnapshotRZPotential\n",
    "from galpy.util.conversion import _G"
   ]
  },
  {
   "cell_type": "code",
   "execution_count": 7,
   "metadata": {},
   "outputs": [],
   "source": [
    "tideb = \"/Users/z5114326/Documents/SampleData/TideB/\"\n",
    "file_name = \"GLX.000001\"\n",
    "\n",
    "path = \"/Users/z5114326/Documents/SampleData/m12i_res7100/output/snapdir_600/snapshot_600\"\n",
    "\n",
    "filepath = tideb + file_name"
   ]
  },
  {
   "cell_type": "code",
   "execution_count": 21,
   "metadata": {},
   "outputs": [
    {
     "name": "stdout",
     "output_type": "stream",
     "text": [
      "/Users/z5114326/Documents/GitHub/GC_kinematics/.venv/lib/python3.12/site-packages/pynbody/snapshot/gadgethdf.py:555: RuntimeWarning: No unit information found in GadgetHDF file. Using gadget default units.\n",
      "  warnings.warn(\"No unit information found in GadgetHDF file. Using gadget default units.\", RuntimeWarning)\n",
      "\n",
      "/Users/z5114326/Documents/GitHub/GC_kinematics/.venv/lib/python3.12/site-packages/pynbody/snapshot/gadgethdf.py:394: UserWarning: Unable to infer units from HDF attributes\n",
      "  warnings.warn(\"Unable to infer units from HDF attributes\")\n",
      "\n"
     ]
    }
   ],
   "source": [
    "s = pynbody.load(path)\n",
    "s.physical_units()\n",
    "\n",
    "g = pynbody.array.SimArray(_G / 1000.0)\n",
    "g.units = \"kpc Msol**-1 km**2 s**-2 G**-1\"\n",
    "s[\"mass\"] = s[\"mass\"] * g"
   ]
  },
  {
   "cell_type": "code",
   "execution_count": 19,
   "metadata": {},
   "outputs": [
    {
     "data": {
      "text/plain": [
       "[<Family gas>, <Family dm>, <Family star>]"
      ]
     },
     "execution_count": 19,
     "metadata": {},
     "output_type": "execute_result"
    }
   ],
   "source": []
  },
  {
   "cell_type": "code",
   "execution_count": 22,
   "metadata": {},
   "outputs": [
    {
     "ename": "RuntimeError",
     "evalue": "Cannot retrieve 'eps' from SimSnap",
     "output_type": "error",
     "traceback": [
      "\u001b[0;31m---------------------------------------------------------------------------\u001b[0m",
      "\u001b[0;31mKeyError\u001b[0m                                  Traceback (most recent call last)",
      "File \u001b[0;32m~/Documents/GitHub/GC_kinematics/.venv/lib/python3.12/site-packages/pynbody/util.py:81\u001b[0m, in \u001b[0;36mget_eps\u001b[0;34m(f)\u001b[0m\n\u001b[1;32m     80\u001b[0m \u001b[38;5;28;01mtry\u001b[39;00m:\n\u001b[0;32m---> 81\u001b[0m     eps \u001b[38;5;241m=\u001b[39m \u001b[43mf\u001b[49m\u001b[43m[\u001b[49m\u001b[38;5;124;43m'\u001b[39;49m\u001b[38;5;124;43meps\u001b[39;49m\u001b[38;5;124;43m'\u001b[39;49m\u001b[43m]\u001b[49m\n\u001b[1;32m     82\u001b[0m \u001b[38;5;28;01mexcept\u001b[39;00m \u001b[38;5;167;01mKeyError\u001b[39;00m:\n",
      "File \u001b[0;32m~/Documents/GitHub/GC_kinematics/.venv/lib/python3.12/site-packages/pynbody/snapshot/simsnap.py:241\u001b[0m, in \u001b[0;36mSimSnap.__getitem__\u001b[0;34m(self, i)\u001b[0m\n\u001b[1;32m    240\u001b[0m \u001b[38;5;28;01mif\u001b[39;00m \u001b[38;5;28misinstance\u001b[39m(i, \u001b[38;5;28mstr\u001b[39m):\n\u001b[0;32m--> 241\u001b[0m     \u001b[38;5;28;01mreturn\u001b[39;00m \u001b[38;5;28;43mself\u001b[39;49m\u001b[38;5;241;43m.\u001b[39;49m\u001b[43m_get_array_with_lazy_actions\u001b[49m\u001b[43m(\u001b[49m\u001b[43mi\u001b[49m\u001b[43m)\u001b[49m\n\u001b[1;32m    242\u001b[0m \u001b[38;5;28;01melif\u001b[39;00m \u001b[38;5;28misinstance\u001b[39m(i, \u001b[38;5;28mslice\u001b[39m):\n",
      "File \u001b[0;32m~/Documents/GitHub/GC_kinematics/.venv/lib/python3.12/site-packages/pynbody/snapshot/simsnap.py:343\u001b[0m, in \u001b[0;36mSimSnap._get_array_with_lazy_actions\u001b[0;34m(self, name)\u001b[0m\n\u001b[1;32m    341\u001b[0m         \u001b[38;5;28mself\u001b[39m\u001b[38;5;241m.\u001b[39m__derive_if_required(name)\n\u001b[0;32m--> 343\u001b[0m \u001b[38;5;28;01mreturn\u001b[39;00m \u001b[38;5;28;43mself\u001b[39;49m\u001b[38;5;241;43m.\u001b[39;49m\u001b[43m_get_array\u001b[49m\u001b[43m(\u001b[49m\u001b[43mname\u001b[49m\u001b[43m)\u001b[49m\n",
      "File \u001b[0;32m~/Documents/GitHub/GC_kinematics/.venv/lib/python3.12/site-packages/pynbody/snapshot/simsnap.py:1208\u001b[0m, in \u001b[0;36mSimSnap._get_array\u001b[0;34m(self, name, index, always_writable)\u001b[0m\n\u001b[1;32m   1201\u001b[0m \u001b[38;5;250m\u001b[39m\u001b[38;5;124;03m\"\"\"Get the array of the specified *name*, optionally\u001b[39;00m\n\u001b[1;32m   1202\u001b[0m \u001b[38;5;124;03mfor only the particles specified by *index*.\u001b[39;00m\n\u001b[1;32m   1203\u001b[0m \n\u001b[1;32m   1204\u001b[0m \u001b[38;5;124;03mIf *always_writable* is True, the returned array is\u001b[39;00m\n\u001b[1;32m   1205\u001b[0m \u001b[38;5;124;03mwritable. Otherwise, it is still normally writable, but\u001b[39;00m\n\u001b[1;32m   1206\u001b[0m \u001b[38;5;124;03mnot if the array is flagged as derived by the framework.\"\"\"\u001b[39;00m\n\u001b[0;32m-> 1208\u001b[0m x \u001b[38;5;241m=\u001b[39m \u001b[38;5;28;43mself\u001b[39;49m\u001b[38;5;241;43m.\u001b[39;49m\u001b[43m_arrays\u001b[49m\u001b[43m[\u001b[49m\u001b[43mname\u001b[49m\u001b[43m]\u001b[49m\n\u001b[1;32m   1209\u001b[0m \u001b[38;5;28;01mif\u001b[39;00m x\u001b[38;5;241m.\u001b[39mderived \u001b[38;5;129;01mand\u001b[39;00m \u001b[38;5;129;01mnot\u001b[39;00m always_writable:\n",
      "\u001b[0;31mKeyError\u001b[0m: 'eps'",
      "\nDuring handling of the above exception, another exception occurred:\n",
      "\u001b[0;31mRuntimeError\u001b[0m                              Traceback (most recent call last)",
      "Cell \u001b[0;32mIn[22], line 1\u001b[0m\n\u001b[0;32m----> 1\u001b[0m spi \u001b[38;5;241m=\u001b[39m \u001b[43mInterpSnapshotRZPotential\u001b[49m\u001b[43m(\u001b[49m\n\u001b[1;32m      2\u001b[0m \u001b[43m    \u001b[49m\u001b[43ms\u001b[49m\u001b[43m,\u001b[49m\u001b[43m \u001b[49m\u001b[43mrgrid\u001b[49m\u001b[38;5;241;43m=\u001b[39;49m\u001b[43m(\u001b[49m\u001b[38;5;241;43m0.01\u001b[39;49m\u001b[43m,\u001b[49m\u001b[43m \u001b[49m\u001b[38;5;241;43m15\u001b[39;49m\u001b[43m,\u001b[49m\u001b[43m \u001b[49m\u001b[38;5;241;43m151\u001b[39;49m\u001b[43m)\u001b[49m\u001b[43m,\u001b[49m\u001b[43m \u001b[49m\u001b[43mlogR\u001b[49m\u001b[38;5;241;43m=\u001b[39;49m\u001b[38;5;28;43;01mFalse\u001b[39;49;00m\u001b[43m,\u001b[49m\u001b[43m \u001b[49m\u001b[43mzgrid\u001b[49m\u001b[38;5;241;43m=\u001b[39;49m\u001b[43m(\u001b[49m\u001b[38;5;241;43m0.0\u001b[39;49m\u001b[43m,\u001b[49m\u001b[43m \u001b[49m\u001b[38;5;241;43m1.5\u001b[39;49m\u001b[43m,\u001b[49m\u001b[43m \u001b[49m\u001b[38;5;241;43m151\u001b[39;49m\u001b[43m)\u001b[49m\u001b[43m,\u001b[49m\u001b[43m \u001b[49m\u001b[43minterpPot\u001b[49m\u001b[38;5;241;43m=\u001b[39;49m\u001b[38;5;28;43;01mTrue\u001b[39;49;00m\u001b[43m,\u001b[49m\u001b[43m \u001b[49m\u001b[43mzsym\u001b[49m\u001b[38;5;241;43m=\u001b[39;49m\u001b[38;5;28;43;01mTrue\u001b[39;49;00m\n\u001b[1;32m      3\u001b[0m \u001b[43m)\u001b[49m\n",
      "File \u001b[0;32m~/Documents/GitHub/GC_kinematics/.venv/lib/python3.12/site-packages/galpy/potential/SnapshotRZPotential.py:262\u001b[0m, in \u001b[0;36mInterpSnapshotRZPotential.__init__\u001b[0;34m(self, s, ro, vo, rgrid, zgrid, interpepifreq, interpverticalfreq, interpPot, enable_c, logR, zsym, numcores, nazimuths, use_pkdgrav)\u001b[0m\n\u001b[1;32m    259\u001b[0m \u001b[38;5;28mself\u001b[39m\u001b[38;5;241m.\u001b[39m_zgrid \u001b[38;5;241m=\u001b[39m numpy\u001b[38;5;241m.\u001b[39mlinspace(\u001b[38;5;241m*\u001b[39mzgrid)\n\u001b[1;32m    261\u001b[0m \u001b[38;5;66;03m# calculate the grids\u001b[39;00m\n\u001b[0;32m--> 262\u001b[0m \u001b[38;5;28;43mself\u001b[39;49m\u001b[38;5;241;43m.\u001b[39;49m\u001b[43m_setup_potential\u001b[49m\u001b[43m(\u001b[49m\u001b[38;5;28;43mself\u001b[39;49m\u001b[38;5;241;43m.\u001b[39;49m\u001b[43m_rgrid\u001b[49m\u001b[43m,\u001b[49m\u001b[43m \u001b[49m\u001b[38;5;28;43mself\u001b[39;49m\u001b[38;5;241;43m.\u001b[39;49m\u001b[43m_zgrid\u001b[49m\u001b[43m,\u001b[49m\u001b[43m \u001b[49m\u001b[43muse_pkdgrav\u001b[49m\u001b[38;5;241;43m=\u001b[39;49m\u001b[43muse_pkdgrav\u001b[49m\u001b[43m)\u001b[49m\n\u001b[1;32m    264\u001b[0m \u001b[38;5;28;01mif\u001b[39;00m enable_c \u001b[38;5;129;01mand\u001b[39;00m interpPot:\n\u001b[1;32m    265\u001b[0m     \u001b[38;5;28mself\u001b[39m\u001b[38;5;241m.\u001b[39m_potGrid_splinecoeffs \u001b[38;5;241m=\u001b[39m calc_2dsplinecoeffs_c(\u001b[38;5;28mself\u001b[39m\u001b[38;5;241m.\u001b[39m_potGrid)\n",
      "File \u001b[0;32m~/Documents/GitHub/GC_kinematics/.venv/lib/python3.12/site-packages/galpy/potential/SnapshotRZPotential.py:396\u001b[0m, in \u001b[0;36mInterpSnapshotRZPotential._setup_potential\u001b[0;34m(self, R, z, use_pkdgrav, dr)\u001b[0m\n\u001b[1;32m    394\u001b[0m \u001b[38;5;28;01melse\u001b[39;00m:\n\u001b[1;32m    395\u001b[0m     \u001b[38;5;28;01mif\u001b[39;00m \u001b[38;5;28mself\u001b[39m\u001b[38;5;241m.\u001b[39m_interpPot:\n\u001b[0;32m--> 396\u001b[0m         pot, acc \u001b[38;5;241m=\u001b[39m \u001b[43mgravity\u001b[49m\u001b[38;5;241;43m.\u001b[39;49m\u001b[43mcalc\u001b[49m\u001b[38;5;241;43m.\u001b[39;49m\u001b[43mdirect\u001b[49m\u001b[43m(\u001b[49m\n\u001b[1;32m    397\u001b[0m \u001b[43m            \u001b[49m\u001b[38;5;28;43mself\u001b[39;49m\u001b[38;5;241;43m.\u001b[39;49m\u001b[43m_s\u001b[49m\u001b[43m,\u001b[49m\u001b[43m \u001b[49m\u001b[43mpoints_new\u001b[49m\u001b[43m,\u001b[49m\u001b[43m \u001b[49m\u001b[43mnum_threads\u001b[49m\u001b[38;5;241;43m=\u001b[39;49m\u001b[38;5;28;43mself\u001b[39;49m\u001b[38;5;241;43m.\u001b[39;49m\u001b[43m_numcores\u001b[49m\n\u001b[1;32m    398\u001b[0m \u001b[43m        \u001b[49m\u001b[43m)\u001b[49m\n\u001b[1;32m    400\u001b[0m         pot \u001b[38;5;241m=\u001b[39m pot\u001b[38;5;241m.\u001b[39mreshape(\u001b[38;5;28mlen\u001b[39m(R) \u001b[38;5;241m*\u001b[39m \u001b[38;5;28mlen\u001b[39m(z), \u001b[38;5;28mself\u001b[39m\u001b[38;5;241m.\u001b[39m_naz)\n\u001b[1;32m    401\u001b[0m         acc \u001b[38;5;241m=\u001b[39m acc\u001b[38;5;241m.\u001b[39mreshape(\u001b[38;5;28mlen\u001b[39m(R) \u001b[38;5;241m*\u001b[39m \u001b[38;5;28mlen\u001b[39m(z), \u001b[38;5;28mself\u001b[39m\u001b[38;5;241m.\u001b[39m_naz, \u001b[38;5;241m3\u001b[39m)\n",
      "File \u001b[0;32mpynbody/gravity/_gravity.pyx:44\u001b[0m, in \u001b[0;36mpynbody.gravity._gravity.direct\u001b[0;34m()\u001b[0m\n",
      "File \u001b[0;32m~/Documents/GitHub/GC_kinematics/.venv/lib/python3.12/site-packages/pynbody/util.py:86\u001b[0m, in \u001b[0;36mget_eps\u001b[0;34m(f)\u001b[0m\n\u001b[1;32m     84\u001b[0m         eps \u001b[38;5;241m=\u001b[39m eps_as_simarray(f, f\u001b[38;5;241m.\u001b[39mproperties[\u001b[38;5;124m'\u001b[39m\u001b[38;5;124meps\u001b[39m\u001b[38;5;124m'\u001b[39m])\n\u001b[1;32m     85\u001b[0m     \u001b[38;5;28;01melse\u001b[39;00m:\n\u001b[0;32m---> 86\u001b[0m         \u001b[38;5;28;01mraise\u001b[39;00m \u001b[38;5;167;01mRuntimeError\u001b[39;00m(\u001b[38;5;124m\"\u001b[39m\u001b[38;5;124mCannot retrieve \u001b[39m\u001b[38;5;124m'\u001b[39m\u001b[38;5;124meps\u001b[39m\u001b[38;5;124m'\u001b[39m\u001b[38;5;124m from SimSnap\u001b[39m\u001b[38;5;124m\"\u001b[39m)\n\u001b[1;32m     87\u001b[0m \u001b[38;5;28;01mreturn\u001b[39;00m eps\n",
      "\u001b[0;31mRuntimeError\u001b[0m: Cannot retrieve 'eps' from SimSnap"
     ]
    }
   ],
   "source": [
    "spi = InterpSnapshotRZPotential(\n",
    "    s, rgrid=(0.01, 15, 151), logR=False, zgrid=(0.0, 1.5, 151), interpPot=True, zsym=True\n",
    ")"
   ]
  }
 ],
 "metadata": {
  "kernelspec": {
   "display_name": ".venv",
   "language": "python",
   "name": "python3"
  },
  "language_info": {
   "codemirror_mode": {
    "name": "ipython",
    "version": 3
   },
   "file_extension": ".py",
   "mimetype": "text/x-python",
   "name": "python",
   "nbconvert_exporter": "python",
   "pygments_lexer": "ipython3",
   "version": "3.12.4"
  }
 },
 "nbformat": 4,
 "nbformat_minor": 2
}
