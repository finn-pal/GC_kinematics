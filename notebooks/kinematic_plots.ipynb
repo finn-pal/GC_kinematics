{
 "cells": [
  {
   "cell_type": "code",
   "execution_count": 6,
   "metadata": {},
   "outputs": [],
   "source": [
    "import gizmo_analysis as gizmo\n",
    "import h5py\n",
    "import halo_analysis as halo\n",
    "import matplotlib.pyplot as plt\n",
    "import numpy as np\n",
    "import pandas as pd\n",
    "from astropy.io import ascii"
   ]
  },
  {
   "cell_type": "code",
   "execution_count": 7,
   "metadata": {},
   "outputs": [],
   "source": [
    "def potential_correction(ptype, part):\n",
    "    potential_max = 0\n",
    "    spec_name = ptype\n",
    "    if \"potential\" in part[spec_name] and part[spec_name][\"potential\"].max() > potential_max:\n",
    "        potential_max = part[spec_name][\"potential\"].max()\n",
    "\n",
    "    return potential_max"
   ]
  },
  {
   "cell_type": "code",
   "execution_count": 8,
   "metadata": {},
   "outputs": [],
   "source": [
    "# fire_dir = \"/Volumes/My Passport for Mac/m12i_res7100\"\n",
    "fire_dir = \"/Users/z5114326/Documents/SampleData/m12i_res7100\"\n",
    "data_dir = \"/Users/z5114326/Documents/GitHub/GC_kinematics/data/result/m12i\"\n",
    "pro_dir = data_dir + \"/processed/\"\n",
    "\n",
    "it = 0\n",
    "r, s, a = 1, 1, 2\n",
    "save_file = pro_dir + \"kin_it%d_r%d_s%d_a%d.hdf5\" % (it, r, s, a)\n",
    "kin_df = pd.read_hdf(save_file, \"df\")"
   ]
  },
  {
   "cell_type": "code",
   "execution_count": 9,
   "metadata": {},
   "outputs": [
    {
     "name": "stdout",
     "output_type": "stream",
     "text": [
      "\n",
      "# in utilities.simulation.Snapshot():\n",
      "* reading:  Users/z5114326/Documents/SampleData/m12i_res7100/snapshot_times.txt\n",
      "\n",
      "  using snapshot index = 600, redshift = 0.000\n",
      "\n",
      "\n",
      "# in gizmo_analysis.gizmo_io.Read():\n",
      "* reading header from:  Users/z5114326/Documents/SampleData/m12i_res7100/output/snapdir_600/snapshot_600.0.hdf5\n",
      "  snapshot contains the following number of particles:\n",
      "    dark      (id = 1): 70514272 particles\n",
      "    dark2     (id = 2): 5513331 particles\n",
      "    gas       (id = 0): 57060074 particles\n",
      "    star      (id = 4): 13976485 particles\n",
      "    blackhole (id = 5): 0 particles\n",
      "\n",
      "* reading the following\n",
      "  species: ['star', 'dark']\n",
      "\n",
      "* reading particles from:\n",
      "    snapshot_600.0.hdf5\n",
      "    snapshot_600.1.hdf5\n",
      "    snapshot_600.2.hdf5\n",
      "    snapshot_600.3.hdf5\n",
      "\n",
      "* reading cosmological parameters from:  Users/z5114326/Documents/SampleData/m12i_res7100/initial_condition/ic_agora_m12i.conf\n",
      "\n",
      "* checking sanity of particle properties\n",
      "\n",
      "\n",
      "# in gizmo_analysis.gizmo_track.ParticleCoordinate():\n",
      "  read 1 host (position, velocity, principal axes) from:  Users/z5114326/Documents/SampleData/m12i_res7100/track/host_coordinates.hdf5\n",
      "  host1 position = (41792.15, 44131.23, 46267.68) [kpc comoving]\n",
      "  host1 velocity = (-52.2, 73.6, 94.7) [km/s]\n",
      "  host1 axis ratios = (0.16, 0.16, 0.99)\n",
      "\n"
     ]
    }
   ],
   "source": [
    "snap = 600\n",
    "part = gizmo.io.Read.read_snapshots([\"star\", \"dark\"], \"index\", snap, fire_dir)"
   ]
  },
  {
   "cell_type": "code",
   "execution_count": 10,
   "metadata": {},
   "outputs": [],
   "source": [
    "star_pot_cor = potential_correction(\"star\", part)\n",
    "dark_pot_cor = potential_correction(\"dark\", part)"
   ]
  },
  {
   "cell_type": "code",
   "execution_count": 11,
   "metadata": {},
   "outputs": [],
   "source": [
    "lz = np.array(kin_df[\"lz\"])\n",
    "ep = kin_df[\"ep\"]\n",
    "ek = np.array(kin_df[\"ek\"])\n",
    "# ptypes = kin_df[\"ptype\"]\n",
    "\n",
    "# ep = []\n",
    "\n",
    "# for ptype, pot in zip(kin_df[\"ptype\"], kin_df[\"ep\"]):\n",
    "#     if ptype == \"star\":\n",
    "#         ep.append(pot - star_pot_cor)\n",
    "#     elif ptype == \"dark\":\n",
    "#         ep.append(pot - dark_pot_cor)\n",
    "\n",
    "ep = np.array(ep)\n",
    "et = ek + ep"
   ]
  },
  {
   "cell_type": "code",
   "execution_count": 12,
   "metadata": {},
   "outputs": [
    {
     "data": {
      "text/plain": [
       "Text(0.5, 1.0, 'Iteration 1 (m12i)')"
      ]
     },
     "execution_count": 12,
     "metadata": {},
     "output_type": "execute_result"
    },
    {
     "data": {
      "image/png": "[encoded data removed]",
      "text/plain": [
       "<Figure size 640x480 with 1 Axes>"
      ]
     },
     "metadata": {},
     "output_type": "display_data"
    }
   ],
   "source": [
    "plt.scatter(lz * 10**-3, et * 10**-5, s=10)\n",
    "\n",
    "# plt.xlim([-20, 20])\n",
    "# plt.ylim([-1, 1.5])\n",
    "plt.xlabel(\"L$_{z}$ (10$^{3}$ kpc km s$^{-1}$)\")\n",
    "plt.ylabel(\"E (10$^{5}$ km$^{2}$ s$^{-2}$)\")\n",
    "plt.title(\"Iteration 1 (m12i)\")"
   ]
  },
  {
   "cell_type": "code",
   "execution_count": 13,
   "metadata": {},
   "outputs": [],
   "source": [
    "chen_data = \"/Users/z5114326/Documents/GitHub/GC_kinematics/data/external/mw_chen_gnedin_2024.txt\"\n",
    "\n",
    "with open(chen_data) as f:\n",
    "    content = f.readlines()\n",
    "    # content = content[13:]\n",
    "chen = ascii.read(content)\n",
    "data = chen[chen[\"col1\"] == 25236877]"
   ]
  },
  {
   "cell_type": "code",
   "execution_count": 14,
   "metadata": {},
   "outputs": [],
   "source": [
    "x = data[\"col7\"]\n",
    "y = data[\"col8\"]\n",
    "z = data[\"col9\"]\n",
    "vx = data[\"col10\"]\n",
    "vy = data[\"col11\"]\n",
    "vz = data[\"col12\"]\n",
    "ep = data[\"col18\"]\n",
    "\n",
    "ek = [0.5 * (vx_i**2 + vy_i**2 + vz_i**2) for vx_i, vy_i, vz_i in zip(vx, vy, vz)]\n",
    "et = np.array([ek_i + ep_i for ek_i, ep_i in zip(ek, ep)])\n",
    "\n",
    "lz = np.array([x_i * vy_i - y_i * vx_i for x_i, vy_i, y_i, vx_i in zip(x, vy, y, vx)])"
   ]
  },
  {
   "cell_type": "code",
   "execution_count": 15,
   "metadata": {},
   "outputs": [
    {
     "data": {
      "text/plain": [
       "Text(0.5, 1.0, 'Chen MW Catalogue (m12i)')"
      ]
     },
     "execution_count": 15,
     "metadata": {},
     "output_type": "execute_result"
    },
    {
     "data": {
      "image/png": "[encoded data removed]",
      "text/plain": [
       "<Figure size 640x480 with 1 Axes>"
      ]
     },
     "metadata": {},
     "output_type": "display_data"
    }
   ],
   "source": [
    "plt.scatter(lz * 10**-3, et * 10**-5, s=10)\n",
    "\n",
    "# plt.xlim([-20, 20])\n",
    "# plt.ylim([-1, 1.5])\n",
    "plt.xlabel(\"L$_{z}$ (10$^{3}$ kpc km s$^{-1}$)\")\n",
    "plt.ylabel(\"E (10$^{5}$ km$^{2}$ s$^{-2}$)\")\n",
    "plt.title(\"Chen MW Catalogue (m12i)\")"
   ]
  },
  {
   "cell_type": "code",
   "execution_count": 16,
   "metadata": {},
   "outputs": [],
   "source": [
    "halo_file = \"/Users/z5114326/Documents/GitHub/GC_kinematics/data/base_halo/halo_25236877.hdf5\"\n",
    "\n",
    "f_halo = h5py.File(halo_file)"
   ]
  },
  {
   "cell_type": "code",
   "execution_count": 17,
   "metadata": {},
   "outputs": [],
   "source": [
    "gc_id_lst = np.array(kin_df[\"GC_ID\"])"
   ]
  },
  {
   "cell_type": "code",
   "execution_count": 18,
   "metadata": {},
   "outputs": [],
   "source": [
    "idx_lst = []\n",
    "for gc_id, ptype in zip(kin_df[\"GC_ID\"], kin_df[\"ptype\"]):\n",
    "    if ptype == \"star\":\n",
    "        idx = np.where(np.array(f_halo[\"snap_596_halo_25236877\"][\"stars\"][\"ParticleIDs\"]) == gc_id)[0][0]\n",
    "        idx_lst.append(idx)"
   ]
  },
  {
   "cell_type": "code",
   "execution_count": 19,
   "metadata": {},
   "outputs": [
    {
     "name": "stdout",
     "output_type": "stream",
     "text": [
      "-12538.5673828125\n",
      "19231.01953125\n",
      "25163.609375\n",
      "31966.505859375\n",
      "30623.478515625\n",
      "-29709.58203125\n",
      "-79872.84375\n",
      "54956.4296875\n",
      "15520.0419921875\n",
      "36402.16015625\n",
      "1199.949951171875\n",
      "36088.54296875\n",
      "47883.70703125\n",
      "-14974.8359375\n",
      "62328.234375\n",
      "62140.24609375\n",
      "10459.140625\n",
      "60712.671875\n",
      "62706.9296875\n",
      "83081.2265625\n",
      "68701.5546875\n",
      "52079.96875\n",
      "13915.96484375\n",
      "37267.1796875\n",
      "-53152.85546875\n",
      "25318.03515625\n",
      "45101.46484375\n",
      "-1921.872802734375\n",
      "-5414.70458984375\n",
      "-26216.33203125\n",
      "-11972.849609375\n",
      "8781.1787109375\n",
      "9340.125\n",
      "-30687.759765625\n",
      "30727.01953125\n",
      "22155.40234375\n",
      "23533.958984375\n",
      "58862.79296875\n",
      "32708.771484375\n",
      "-53701.359375\n",
      "-59472.44140625\n",
      "31174.27734375\n",
      "-62551.546875\n",
      "-21011.078125\n",
      "18576.962890625\n",
      "-68266.234375\n",
      "5765.51416015625\n",
      "-75242.046875\n",
      "-4789.78173828125\n",
      "1981.5997314453125\n",
      "-21606.94140625\n",
      "-66609.84375\n",
      "42443.9296875\n",
      "-23949.51953125\n",
      "-13062.095703125\n",
      "-45814.58203125\n",
      "44288.26953125\n",
      "27157.560546875\n",
      "11181.3974609375\n",
      "6109.68310546875\n",
      "-116541.9609375\n",
      "-32512.611328125\n",
      "39003.1640625\n",
      "1011.5646362304688\n",
      "-35798.4921875\n",
      "-17439.873046875\n",
      "-30756.61328125\n",
      "-11945.6083984375\n",
      "-11205.767578125\n",
      "-83073.3984375\n",
      "-33285.171875\n",
      "-114541.4765625\n",
      "14405.5849609375\n",
      "55080.484375\n",
      "-119754.421875\n",
      "-30184.67578125\n",
      "-94507.34375\n",
      "-87045.828125\n",
      "-7517.12744140625\n",
      "-65868.2734375\n",
      "-43797.91015625\n",
      "-29567.583984375\n",
      "-75788.0390625\n",
      "-103295.7890625\n",
      "19357.125\n",
      "-47321.078125\n",
      "-93549.3984375\n",
      "5001.9580078125\n",
      "-15759.8466796875\n",
      "-37930.53125\n",
      "10060.595703125\n",
      "-44256.625\n",
      "37181.47265625\n",
      "18679.267578125\n",
      "-103974.6015625\n",
      "-62174.8671875\n",
      "-61187.8828125\n",
      "-51748.94921875\n",
      "-6925.88134765625\n",
      "-50944.3359375\n",
      "-23637.07421875\n",
      "-107337.890625\n",
      "-29558.146484375\n",
      "-64629.7109375\n",
      "-1539.7431640625\n",
      "7667.20849609375\n",
      "6216.2470703125\n",
      "1416.6827392578125\n",
      "-33515.08984375\n",
      "35117.84765625\n",
      "-57702.81640625\n",
      "-22913.125\n",
      "-4824.66357421875\n",
      "42786.65625\n",
      "48267.5078125\n",
      "20927.8984375\n",
      "-30254.015625\n",
      "-91742.125\n",
      "-63576.8125\n",
      "-21961.146484375\n",
      "-78639.6875\n",
      "1082.8631591796875\n",
      "-120323.5625\n",
      "27718.984375\n",
      "-34318.453125\n",
      "-13662.6953125\n",
      "12664.568359375\n",
      "-150308.28125\n",
      "3557.50244140625\n",
      "-98368.90625\n",
      "4475.22021484375\n",
      "-148527.359375\n",
      "-34801.2890625\n",
      "18877.169921875\n",
      "-43428.1015625\n",
      "-17689.998046875\n",
      "69441.9765625\n",
      "-68528.7421875\n",
      "35141.46484375\n",
      "-17029.7421875\n",
      "52960.6171875\n",
      "19869.453125\n",
      "17776.21484375\n",
      "-5027.1787109375\n",
      "27881.13671875\n",
      "61751.80859375\n",
      "-15479.455078125\n",
      "45673.62109375\n",
      "52331.98828125\n",
      "-14862.724609375\n",
      "6734.16552734375\n",
      "-38989.78515625\n",
      "28922.666015625\n",
      "71903.0546875\n",
      "112107.125\n",
      "76874.421875\n",
      "66778.5546875\n",
      "66792.6953125\n",
      "25117.564453125\n",
      "61820.1796875\n",
      "61521.5546875\n",
      "60008.11328125\n",
      "26262.650390625\n",
      "68126.703125\n",
      "70239.4140625\n",
      "-50887.42578125\n",
      "39135.9609375\n",
      "87551.8671875\n",
      "99577.4453125\n",
      "106872.640625\n",
      "83346.4140625\n",
      "60087.0\n",
      "58695.51953125\n",
      "74256.0390625\n",
      "88071.7109375\n",
      "37824.39453125\n",
      "33077.68359375\n",
      "106687.0234375\n",
      "64243.3828125\n",
      "114525.34375\n",
      "92682.0546875\n",
      "97495.515625\n",
      "93316.2578125\n",
      "110824.84375\n",
      "118725.3984375\n",
      "111301.9609375\n",
      "83157.3984375\n",
      "101936.1484375\n",
      "111319.9609375\n",
      "109335.234375\n",
      "115396.7890625\n",
      "102281.015625\n",
      "85930.9921875\n",
      "107222.2890625\n",
      "103179.6796875\n",
      "102636.296875\n",
      "117322.9140625\n",
      "84344.5234375\n",
      "97048.609375\n",
      "116617.6953125\n",
      "112378.4765625\n",
      "83029.3515625\n",
      "84595.015625\n",
      "112226.34375\n",
      "122325.015625\n",
      "83344.59375\n"
     ]
    }
   ],
   "source": [
    "for idx in idx_lst:\n",
    "    print(f_halo[\"snap_596_halo_25236877\"][\"stars\"][\"Potential\"][idx])"
   ]
  },
  {
   "cell_type": "code",
   "execution_count": 21,
   "metadata": {},
   "outputs": [],
   "source": [
    "r = [np.linalg.norm([xi, yi, zi]) for xi, yi, zi in zip(x, y, z)]"
   ]
  },
  {
   "cell_type": "code",
   "execution_count": 23,
   "metadata": {},
   "outputs": [
    {
     "data": {
      "text/plain": [
       "168.8272906078872"
      ]
     },
     "execution_count": 23,
     "metadata": {},
     "output_type": "execute_result"
    }
   ],
   "source": [
    "np.max(r)"
   ]
  }
 ],
 "metadata": {
  "kernelspec": {
   "display_name": ".venv",
   "language": "python",
   "name": "python3"
  },
  "language_info": {
   "codemirror_mode": {
    "name": "ipython",
    "version": 3
   },
   "file_extension": ".py",
   "mimetype": "text/x-python",
   "name": "python",
   "nbconvert_exporter": "python",
   "pygments_lexer": "ipython3",
   "version": "3.12.4"
  }
 },
 "nbformat": 4,
 "nbformat_minor": 2
}
