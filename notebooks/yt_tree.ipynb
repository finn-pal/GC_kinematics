{
 "cells": [
  {
   "cell_type": "code",
   "execution_count": 26,
   "metadata": {},
   "outputs": [],
   "source": [
    "import numpy as np\n",
    "import yt"
   ]
  },
  {
   "cell_type": "code",
   "execution_count": 27,
   "metadata": {},
   "outputs": [],
   "source": [
    "tree_path = \"/Volumes/My Passport for Mac/m12i_res7100/halo/rockstar_dm/catalog/trees/tree_0_0_0.dat\"\n",
    "skip = 50\n",
    "\n",
    "tree_full = np.loadtxt(tree_path, skiprows=skip)"
   ]
  },
  {
   "cell_type": "code",
   "execution_count": 28,
   "metadata": {},
   "outputs": [
    {
     "name": "stderr",
     "output_type": "stream",
     "text": [
      "yt : [INFO     ] 2024-09-02 11:52:30,397 ComovingIntegrationOn does not exist, falling back to OmegaLambda\n",
      "yt : [INFO     ] 2024-09-02 11:52:30,400 Calculating time from 1.000e-01 to be 1.776e+16 seconds\n",
      "yt : [INFO     ] 2024-09-02 11:52:30,401 Assuming length units are in kpc/h (comoving)\n",
      "yt : [INFO     ] 2024-09-02 11:52:30,427 Parameters: current_time              = 1.776006650103317e+16 s\n",
      "yt : [INFO     ] 2024-09-02 11:52:30,427 Parameters: domain_dimensions         = [1 1 1]\n",
      "yt : [INFO     ] 2024-09-02 11:52:30,427 Parameters: domain_left_edge          = [0. 0. 0.]\n",
      "yt : [INFO     ] 2024-09-02 11:52:30,428 Parameters: domain_right_edge         = [60000. 60000. 60000.]\n",
      "yt : [INFO     ] 2024-09-02 11:52:30,428 Parameters: cosmological_simulation   = True\n",
      "yt : [INFO     ] 2024-09-02 11:52:30,429 Parameters: current_redshift          = 9.000000003795392\n",
      "yt : [INFO     ] 2024-09-02 11:52:30,429 Parameters: omega_lambda              = 0.728\n",
      "yt : [INFO     ] 2024-09-02 11:52:30,429 Parameters: omega_matter              = 0.272\n",
      "yt : [INFO     ] 2024-09-02 11:52:30,430 Parameters: omega_radiation           = 0.0\n",
      "yt : [INFO     ] 2024-09-02 11:52:30,430 Parameters: hubble_constant           = 0.702\n"
     ]
    }
   ],
   "source": [
    "offset = 4\n",
    "yt_snap = 22\n",
    "snap = yt_snap + offset\n",
    "halo_path = \"/Volumes/My Passport for Mac/m12i_res7100/output/\" + \"snapdir_%03d\" % snap\n",
    "\n",
    "halo_data = yt.load(halo_path)"
   ]
  },
  {
   "cell_type": "code",
   "execution_count": 11,
   "metadata": {},
   "outputs": [
    {
     "data": {
      "text/plain": [
       "GizmoDataset: /Volumes/My Passport for Mac/m12i_res7100/output/snapdir_026/snapshot_026.0.hdf5"
      ]
     },
     "execution_count": 11,
     "metadata": {},
     "output_type": "execute_result"
    }
   ],
   "source": [
    "tree_full[27]"
   ]
  },
  {
   "cell_type": "code",
   "execution_count": 22,
   "metadata": {},
   "outputs": [
    {
     "name": "stderr",
     "output_type": "stream",
     "text": [
      "/var/folders/nb/byfjq48d6jz8b3g74s3zr7rh0000gp/T/ipykernel_94700/3093792585.py:3: ParserWarning: Falling back to the 'python' engine because the 'c' engine does not support regex separators (separators > 1 char and different from '\\s+' are interpreted as regex); you can avoid this warning by specifying engine='python'.\n",
      "  data = pd.read_csv(tree_path, sep=\" ::\", header=None)\n"
     ]
    }
   ],
   "source": [
    "import pandas as pd\n",
    "\n",
    "data = pd.read_csv(tree_path, sep=\" ::\", header=None)"
   ]
  },
  {
   "cell_type": "code",
   "execution_count": 25,
   "metadata": {},
   "outputs": [
    {
     "data": {
      "text/plain": [
       "'#scale(0) id(1) desc_scale(2) desc_id(3) num_prog(4) pid(5) upid(6) desc_pid(7) phantom(8) sam_Mvir(9) Mvir(10) Rvir(11) rs(12) vrms(13) mmp?(14) scale_of_last_MM(15) vmax(16) x(17) y(18) z(19) vx(20) vy(21) vz(22) Jx(23) Jy(24) Jz(25) Spin(26) Breadth_first_ID(27) Depth_first_ID(28) Tree_root_ID(29) Orig_halo_ID(30) Snap_idx(31) Next_coprogenitor_depthfirst_ID(32) Last_progenitor_depthfirst_ID(33) Last_mainleaf_depthfirst_ID(34) Tidal_Force(35) Tidal_ID(36) Rs_Klypin M200b_all Mvir M200c M500c M180b Xoff Voff Spin_Bullock b_to_a c_to_a A[x] A[y] A[z] b_to_a(500c) c_to_a(500c) A[x](500c) A[y](500c) A[z](500c) T/|U| M_pe_Behroozi M_pe_Diemer Type SM Gas BH_Mass M200b_hires M200b_lowres'"
      ]
     },
     "execution_count": 25,
     "metadata": {},
     "output_type": "execute_result"
    }
   ],
   "source": [
    "data.iloc[0][0]"
   ]
  },
  {
   "cell_type": "code",
   "execution_count": 1,
   "metadata": {},
   "outputs": [
    {
     "ename": "NameError",
     "evalue": "name 'np' is not defined",
     "output_type": "error",
     "traceback": [
      "\u001b[0;31m---------------------------------------------------------------------------\u001b[0m",
      "\u001b[0;31mNameError\u001b[0m                                 Traceback (most recent call last)",
      "Cell \u001b[0;32mIn[1], line 1\u001b[0m\n\u001b[0;32m----> 1\u001b[0m \u001b[43mnp\u001b[49m\u001b[38;5;241m.\u001b[39mmax(tree_full[:, \u001b[38;5;241m9\u001b[39m])\n",
      "\u001b[0;31mNameError\u001b[0m: name 'np' is not defined"
     ]
    }
   ],
   "source": [
    "np.max(tree_full[:, 9])"
   ]
  },
  {
   "cell_type": "code",
   "execution_count": 38,
   "metadata": {},
   "outputs": [
    {
     "data": {
      "text/plain": [
       "(array([0, 1]),)"
      ]
     },
     "execution_count": 38,
     "metadata": {},
     "output_type": "execute_result"
    }
   ],
   "source": [
    "np.where(tree_full[:, 10] == np.max(tree_full[:, 10]))"
   ]
  },
  {
   "cell_type": "code",
   "execution_count": 47,
   "metadata": {},
   "outputs": [
    {
     "data": {
      "text/plain": [
       "array([25236877., 25236877., 25236877., ..., 25243152., 25243152.,\n",
       "       25243152.])"
      ]
     },
     "execution_count": 47,
     "metadata": {},
     "output_type": "execute_result"
    }
   ],
   "source": [
    "tree_full[:, 29]"
   ]
  }
 ],
 "metadata": {
  "kernelspec": {
   "display_name": ".venv",
   "language": "python",
   "name": "python3"
  },
  "language_info": {
   "codemirror_mode": {
    "name": "ipython",
    "version": 3
   },
   "file_extension": ".py",
   "mimetype": "text/x-python",
   "name": "python",
   "nbconvert_exporter": "python",
   "pygments_lexer": "ipython3",
   "version": "3.12.4"
  }
 },
 "nbformat": 4,
 "nbformat_minor": 2
}
